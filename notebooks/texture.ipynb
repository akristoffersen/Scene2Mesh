{
 "cells": [
  {
   "cell_type": "code",
   "execution_count": 13,
   "metadata": {},
   "outputs": [
    {
     "name": "stdout",
     "output_type": "stream",
     "text": [
      "/Users/alexkristoffersen/Desktop/cs184/final_project\n",
      "The autoreload extension is already loaded. To reload it, use:\n",
      "  %reload_ext autoreload\n"
     ]
    }
   ],
   "source": [
    "%cd ..\n",
    "import numpy as np\n",
    "import cv2\n",
    "import os\n",
    "import torch\n",
    "import torchvision\n",
    "\n",
    "\n",
    "import matplotlib.pyplot as plt\n",
    "import plyfile\n",
    "import open3d as o3d\n",
    "import blenderpy as bpy\n",
    "\n",
    "import utils.uv\n",
    "%load_ext autoreload\n",
    "%autoreload 2"
   ]
  },
  {
   "cell_type": "code",
   "execution_count": 14,
   "metadata": {},
   "outputs": [],
   "source": [
    "def spherical_sample_fn(x):\n",
    "    '''\n",
    "    Converts an x value to an rgb color based off of its normal\n",
    "\n",
    "    Args:\n",
    "        x: (N, 3)\n",
    "    Returns:\n",
    "        col: (N, 3), [0, 1] rgb\n",
    "    '''\n",
    "    x = np.abs(x) / np.linalg.norm(x)\n",
    "    return x\n",
    "\n",
    "\n",
    "def normuv(uv, H, W):\n",
    "    \"\"\"\n",
    "    Normalize pixel coordinates to lie in [-1, 1]\n",
    "    \n",
    "    :param uv (..., 2) unnormalized pixel coordinates for HxW image\n",
    "    \"\"\"\n",
    "    u = uv[..., 0] / H * 2.0 - 1.0\n",
    "    v = uv[..., 1] / W * 2.0 - 1.0\n",
    "    return torch.stack([u, v], dim=-1)\n",
    "\n",
    "\n",
    "def unnormuv(uv, H, W):\n",
    "    \"\"\"\n",
    "    Un-normalize pixel coordinates\n",
    "    \n",
    "    :param uv (..., 2) normalized pixel coordinates in [-1, 1]\n",
    "    \"\"\"\n",
    "    u = (uv[..., 0] + 1.0) / 2.0 * H\n",
    "    v = (uv[..., 1] + 1.0) / 2.0 * W\n",
    "    return torch.stack([u, v], dim=-1)\n",
    "    \n",
    "\n",
    "def get_uv(H, W):\n",
    "    \"\"\"\n",
    "    Get normalized uv coordinates for image\n",
    "    :param height (int) source image height\n",
    "    :param width (int) source image width\n",
    "    :return uv (N, 2) pixel coordinates in [-1.0, 1.0]\n",
    "    \"\"\"\n",
    "    yy, xx = torch.meshgrid(\n",
    "        (torch.arange(H, dtype=torch.float32) + 0.5),\n",
    "        (torch.arange(W, dtype=torch.float32) + 0.5),\n",
    "        indexing='ij',\n",
    "    )\n",
    "    uv = torch.stack([xx, yy], dim=-1) # (H, W, 2)\n",
    "    uv = normuv(uv, W, H) # (H, W, 2)\n",
    "    return uv.view(H * W, 2)\n",
    "\n",
    "\n",
    "def create_spherical_uv_sampling(im_shape):\n",
    "    '''\n",
    "    creates the sampling of directions from the origin around 360 space.\n",
    "    Args:\n",
    "        im_shape: (H, W)\n",
    "    Returns:\n",
    "        uv sampling map (H, W)\n",
    "    '''\n",
    "    H, W = im_shape\n",
    "    phis_thetas = get_uv(H, W).numpy() * [np.pi, 2 * np.pi] # phi, theta\n",
    "    uv_directions = np.column_stack(\n",
    "        [\n",
    "            np.sin(phis_thetas[:, 0]) * np.cos(phis_thetas[:, 1]),\n",
    "            np.sin(phis_thetas[:, 0]) * np.sin(phis_thetas[:, 1]),\n",
    "            np.cos(phis_thetas[:, 0]),\n",
    "        ],\n",
    "    )\n",
    "    return uv_directions\n"
   ]
  },
  {
   "cell_type": "code",
   "execution_count": 15,
   "metadata": {},
   "outputs": [],
   "source": [
    "def get_spherical_coords(X):\n",
    "    # X is N x 3\n",
    "    rad = np.linalg.norm(X, axis=1)\n",
    "    # Inclination\n",
    "    theta = np.arccos(X[:, 2] / rad)\n",
    "    # Azimuth\n",
    "    phi = np.arctan2(X[:, 1], X[:, 0])\n",
    "\n",
    "    # Normalize both to be between [-1, 1]\n",
    "    vv = (theta / np.pi) * 2 - 1\n",
    "    uu = ((phi + np.pi) / (2*np.pi)) * 2 - 1\n",
    "    # Return N x 2\n",
    "    return np.stack([uu, vv],1)"
   ]
  },
  {
   "cell_type": "code",
   "execution_count": 16,
   "metadata": {},
   "outputs": [],
   "source": [
    "def triangle_direction_intersection(tri, trg):\n",
    "    '''\n",
    "    Finds where an origin-centered ray going in direction trg intersects a triangle.\n",
    "    Args:\n",
    "        tri: 3 X 3 vertex locations. tri[0, :] is 0th vertex.\n",
    "    Returns:\n",
    "        alpha, beta, gamma\n",
    "    '''\n",
    "    p0 = np.copy(tri[0, :])\n",
    "    # Don't normalize\n",
    "    d1 = np.copy(tri[1, :]) - p0\n",
    "    d2 = np.copy(tri[2, :]) - p0\n",
    "    d = trg / np.linalg.norm(trg)\n",
    "\n",
    "    mat = np.stack([d1, d2, d], axis=1)\n",
    "\n",
    "    try:\n",
    "      inv_mat = np.linalg.inv(mat)\n",
    "    except np.linalg.LinAlgError:\n",
    "      return False, 0\n",
    "    \n",
    "    a_b_mg = -1*np.matmul(inv_mat, p0)\n",
    "    is_valid = (a_b_mg[0] >= 0) and (a_b_mg[1] >= 0) and ((a_b_mg[0] + a_b_mg[1]) <= 1) and (a_b_mg[2] < 0)\n",
    "    if is_valid:\n",
    "        return True, -a_b_mg[2]*d\n",
    "    else:\n",
    "        return False, 0"
   ]
  },
  {
   "cell_type": "code",
   "execution_count": 17,
   "metadata": {},
   "outputs": [],
   "source": [
    "def mesh_centroid(vertices, faces):\n",
    "\n",
    "    return np.average(vertices, axis=0)\n",
    "\n",
    "def create_spherical_uv_map(H, W, vertices, faces, sample_fn=spherical_sample_fn):\n",
    "    ray_dirs = create_spherical_uv_sampling((H, W)) # (H * W, 3)\n",
    "    mesh_center = mesh_centroid(vertices, faces)\n",
    "\n",
    "    normalized_vertices = vertices - mesh_center\n",
    "    uv_map = np.zeros((H, W, 3))\n",
    "\n",
    "    for face in faces:\n",
    "        pass\n",
    "\n",
    "    return uv_map"
   ]
  },
  {
   "cell_type": "code",
   "execution_count": 18,
   "metadata": {},
   "outputs": [
    {
     "data": {
      "text/plain": [
       "array([0., 0., 0.])"
      ]
     },
     "execution_count": 18,
     "metadata": {},
     "output_type": "execute_result"
    }
   ],
   "source": [
    "mesh_centroid(\n",
    "    np.array(\n",
    "        [\n",
    "            [1, 1, 1],\n",
    "            [1, 1, -1],\n",
    "            [1, -1, -1],\n",
    "            [1, -1, 1],\n",
    "            [-1, 1, 1],\n",
    "            [-1, 1, -1],\n",
    "            [-1, -1, -1],\n",
    "            [-1, -1, 1],\n",
    "        ],\n",
    "    ),\n",
    "    np.array(\n",
    "        [\n",
    "            [0, 1, 2],\n",
    "            [0, 2, 3],\n",
    "            [1, 5, 2],\n",
    "            [2, 5, 6],\n",
    "            [3, 2, 6],\n",
    "            [3, 6, 7],\n",
    "            [4, 5, 1],\n",
    "            [4, 1, 0],\n",
    "            [4, 0, 3],\n",
    "            [4, 3, 7],\n",
    "            [4, 5, 6],\n",
    "            [4, 6, 7],\n",
    "        ]\n",
    "    ),\n",
    ")"
   ]
  },
  {
   "cell_type": "code",
   "execution_count": 19,
   "metadata": {},
   "outputs": [
    {
     "data": {
      "text/plain": [
       "torch.Size([25, 2])"
      ]
     },
     "execution_count": 19,
     "metadata": {},
     "output_type": "execute_result"
    }
   ],
   "source": [
    "get_uv(5, 5).shape"
   ]
  },
  {
   "cell_type": "code",
   "execution_count": 20,
   "metadata": {},
   "outputs": [],
   "source": [
    "def numpy_to_ply(vertices, faces, vert_colors=None, filename=None):\n",
    "    '''\n",
    "    Converts numpy arrays to PLY file, which can be used\n",
    "    in blender or converted into an obj file.\n",
    "    Args:\n",
    "        # vertices: (|V|, 3), <x,y,z>\n",
    "        # faces: (|F|, 3), vertex indices, 3 for each triangle\n",
    "        # vert_colors (optional): (|V|, 3) RGB, [0, 1] range\n",
    "        # filename: string. if not None, write to given filepath.\n",
    "    Returns:\n",
    "        PlyData obj\n",
    "    '''\n",
    "    assert vertices.shape[1] == 3 and faces.shape[1] == 3\n",
    "\n",
    "    if vert_colors is None:\n",
    "        vertices = np.array(\n",
    "            [tuple(vertices[i]) for i in range(vertices.shape[0])],\n",
    "            dtype=[('x', 'f4'), ('y', 'f4'), ('z', 'f4')],\n",
    "        )\n",
    "    else:\n",
    "        vertices = np.array(\n",
    "            [(*vertices[i], vert_colors[i, 0], vert_colors[i, 1], vert_colors[i, 2])  \n",
    "              for i in range(vertices.shape[0])],\n",
    "            dtype=[\n",
    "                ('x', 'f4'), ('y', 'f4'), ('z', 'f4'), \n",
    "                (\"red\", \"u1\"), (\"green\", \"u1\"), (\"blue\", \"u1\"),\n",
    "            ],\n",
    "        )\n",
    "    faces = np.array(\n",
    "        [tuple([faces[i]]) for i in range(faces.shape[0])],\n",
    "        dtype=[('vertex_indices', 'i4', (3,))],\n",
    "    )\n",
    "    ply_data = plyfile.PlyData(\n",
    "        [\n",
    "            plyfile.PlyElement.describe(\n",
    "                vertices, \n",
    "                'vertex',\n",
    "                comments=['model vertices'],\n",
    "            ),\n",
    "            plyfile.PlyElement.describe(\n",
    "                faces,\n",
    "                'face',\n",
    "            ),\n",
    "        ],\n",
    "    )\n",
    "    if filename:\n",
    "        ply_data.write(filename)\n",
    "    \n",
    "    return ply_data\n"
   ]
  },
  {
   "cell_type": "code",
   "execution_count": 21,
   "metadata": {},
   "outputs": [],
   "source": [
    "unit_box_vertices = np.array(\n",
    "    [\n",
    "        [1, 1, 1],\n",
    "        [1, 1, -1],\n",
    "        [1, -1, -1],\n",
    "        [1, -1, 1],\n",
    "        [-1, 1, 1],\n",
    "        [-1, 1, -1],\n",
    "        [-1, -1, -1],\n",
    "        [-1, -1, 1],\n",
    "    ],\n",
    ")\n",
    "\n",
    "unit_box_faces = np.array(\n",
    "    [\n",
    "        [0, 1, 2],\n",
    "        [0, 2, 3],\n",
    "        [1, 5, 2],\n",
    "        [2, 5, 6],\n",
    "        [3, 2, 6],\n",
    "        [3, 6, 7],\n",
    "        [4, 5, 1],\n",
    "        [4, 1, 0],\n",
    "        [4, 0, 3],\n",
    "        [4, 3, 7],\n",
    "        [4, 5, 6],\n",
    "        [4, 6, 7],\n",
    "    ]\n",
    ")\n",
    "\n",
    "unit_box_vertex_colors = (255 * (unit_box_vertices + 1) / 2.0).astype(np.uint8)\n"
   ]
  },
  {
   "cell_type": "code",
   "execution_count": 22,
   "metadata": {},
   "outputs": [
    {
     "data": {
      "text/plain": [
       "PlyData((PlyElement('vertex', (PlyProperty('x', 'float'), PlyProperty('y', 'float'), PlyProperty('z', 'float'), PlyProperty('red', 'uchar'), PlyProperty('green', 'uchar'), PlyProperty('blue', 'uchar')), count=8, comments=['model vertices']), PlyElement('face', (PlyListProperty('vertex_indices', 'uchar', 'int'),), count=12, comments=[])), text=False, byte_order='<', comments=[], obj_info=[])"
      ]
     },
     "execution_count": 22,
     "metadata": {},
     "output_type": "execute_result"
    }
   ],
   "source": [
    "numpy_to_ply(\n",
    "    unit_box_vertices, \n",
    "    unit_box_faces, \n",
    "    vert_colors=unit_box_vertex_colors,\n",
    "    filename=\"test.ply\",\n",
    ")"
   ]
  },
  {
   "cell_type": "code",
   "execution_count": 86,
   "metadata": {},
   "outputs": [],
   "source": [
    "test_uv = np.load(\"Scene2Mesh/test_uv_map.npy\", allow_pickle=True)[()]"
   ]
  },
  {
   "cell_type": "code",
   "execution_count": 91,
   "metadata": {},
   "outputs": [
    {
     "data": {
      "text/plain": [
       "{0: {0: (0.0020020019728690386, 0.3323323428630829),\n",
       "  1: (0.3323323428630829, 0.3323323428630829),\n",
       "  2: (0.3323323428630829, 0.0020020019728690386)},\n",
       " 1: {0: (0.3323323428630829, 0.3353353440761566),\n",
       "  2: (0.0020020019728690386, 0.6656656861305237),\n",
       "  3: (0.3323323428630829, 0.6656656861305237)},\n",
       " 2: {1: (0.6656656861305237, 0.3323323428630829),\n",
       "  5: (0.3353353440761566, 0.3323323428630829),\n",
       "  2: (0.6656656861305237, 0.0020020019728690386)},\n",
       " 3: {2: (0.6656656861305237, 0.3353353440761566),\n",
       "  5: (0.3353353440761566, 0.6656656861305237),\n",
       "  6: (0.6656656861305237, 0.6656656861305237)},\n",
       " 4: {3: (0.0020020019728690386, 0.9989989995956421),\n",
       "  2: (0.3323323428630829, 0.9989989995956421),\n",
       "  6: (0.3323323428630829, 0.6686686873435974)},\n",
       " 5: {3: (0.9989989995956421, 0.0020020019728690386),\n",
       "  6: (0.6686686873435974, 0.3323323428630829),\n",
       "  7: (0.9989989995956421, 0.3323323428630829)},\n",
       " 6: {4: (0.9979979991912842, 0.0010010009864345193),\n",
       "  5: (0.6676676869392395, 0.0010010009864345193),\n",
       "  1: (0.6676676869392395, 0.331331342458725)},\n",
       " 7: {1: (0.331331342458725, 0.6676676869392395),\n",
       "  0: (0.0010010009864345193, 0.6676676869392395),\n",
       "  4: (0.0010010009864345193, 0.9979979991912842)},\n",
       " 8: {4: (0.6646646857261658, 0.3343343436717987),\n",
       "  0: (0.3343343436717987, 0.3343343436717987),\n",
       "  3: (0.3343343436717987, 0.6646646857261658)},\n",
       " 9: {4: (0.3343343436717987, 0.331331342458725),\n",
       "  3: (0.6646646857261658, 0.0010010009864345193),\n",
       "  7: (0.3343343436717987, 0.0010010009864345193)},\n",
       " 10: {4: (0.331331342458725, 0.3343343436717987),\n",
       "  5: (0.0010010009864345193, 0.3343343436717987),\n",
       "  6: (0.0010010009864345193, 0.6646646857261658)},\n",
       " 11: {4: (0.0010010009864345193, 0.331331342458725),\n",
       "  6: (0.331331342458725, 0.0010010009864345193),\n",
       "  7: (0.0010010009864345193, 0.0010010009864345193)}}"
      ]
     },
     "execution_count": 91,
     "metadata": {},
     "output_type": "execute_result"
    }
   ],
   "source": [
    "test_uv"
   ]
  },
  {
   "cell_type": "code",
   "execution_count": 87,
   "metadata": {},
   "outputs": [
    {
     "data": {
      "image/png": "[encoded data removed]",
      "text/plain": [
       "<Figure size 432x288 with 1 Axes>"
      ]
     },
     "metadata": {
      "needs_background": "light"
     },
     "output_type": "display_data"
    }
   ],
   "source": [
    "for i in range(12):\n",
    "    keys = sorted(test_uv[i].keys())\n",
    "    xs = [test_uv[i][k][0] for k in keys]\n",
    "    ys = [test_uv[i][k][1] for k in keys]\n",
    "    plt.fill(xs, ys)"
   ]
  },
  {
   "cell_type": "code",
   "execution_count": 180,
   "metadata": {},
   "outputs": [
    {
     "name": "stdout",
     "output_type": "stream",
     "text": [
      "0\n",
      "v_positions: [[ 1  1  1]\n",
      " [ 1  1 -1]\n",
      " [ 1 -1 -1]]\n",
      "uv_locs: [[0.66766766 0.002002  ]\n",
      " [0.66766766 0.33233234]\n",
      " [0.997998   0.33233234]]\n",
      "1\n",
      "v_positions: [[ 1  1  1]\n",
      " [ 1 -1 -1]\n",
      " [ 1 -1  1]]\n",
      "uv_locs: [[0.66466466 0.33233234]\n",
      " [0.33433431 0.002002  ]\n",
      " [0.33433431 0.33233234]]\n",
      "2\n",
      "v_positions: [[ 1  1 -1]\n",
      " [-1  1 -1]\n",
      " [ 1 -1 -1]]\n",
      "uv_locs: [[0.66766766 0.66566569]\n",
      " [0.66766766 0.33533534]\n",
      " [0.997998   0.66566569]]\n",
      "3\n",
      "v_positions: [[ 1 -1 -1]\n",
      " [-1  1 -1]\n",
      " [-1 -1 -1]]\n",
      "uv_locs: [[0.66466466 0.66566569]\n",
      " [0.33433431 0.33533534]\n",
      " [0.33433431 0.66566569]]\n",
      "4\n",
      "v_positions: [[ 1 -1  1]\n",
      " [ 1 -1 -1]\n",
      " [-1 -1 -1]]\n",
      "uv_locs: [[0.001001   0.002002  ]\n",
      " [0.001001   0.33233234]\n",
      " [0.33133131 0.33233234]]\n",
      "5\n",
      "v_positions: [[ 1 -1  1]\n",
      " [-1 -1 -1]\n",
      " [-1 -1  1]]\n",
      "uv_locs: [[0.997998   0.998999  ]\n",
      " [0.66766766 0.66866869]\n",
      " [0.66766766 0.998999  ]]\n",
      "6\n",
      "v_positions: [[-1  1  1]\n",
      " [-1  1 -1]\n",
      " [ 1  1 -1]]\n",
      "uv_locs: [[0.998999   0.997998  ]\n",
      " [0.998999   0.66766769]\n",
      " [0.66866866 0.66766769]]\n",
      "7\n",
      "v_positions: [[ 1  1 -1]\n",
      " [ 1  1  1]\n",
      " [-1  1  1]]\n",
      "uv_locs: [[0.33233231 0.33133134]\n",
      " [0.33233231 0.001001  ]\n",
      " [0.002002   0.001001  ]]\n",
      "8\n",
      "v_positions: [[-1  1  1]\n",
      " [ 1  1  1]\n",
      " [ 1 -1  1]]\n",
      "uv_locs: [[0.66566566 0.66466469]\n",
      " [0.66566566 0.33433434]\n",
      " [0.33533531 0.33433434]]\n",
      "9\n",
      "v_positions: [[-1  1  1]\n",
      " [ 1 -1  1]\n",
      " [-1 -1  1]]\n",
      "uv_locs: [[0.66866866 0.33433434]\n",
      " [0.998999   0.66466469]\n",
      " [0.998999   0.33433434]]\n",
      "10\n",
      "v_positions: [[-1  1  1]\n",
      " [-1  1 -1]\n",
      " [-1 -1 -1]]\n",
      "uv_locs: [[0.66566566 0.33133134]\n",
      " [0.66566566 0.001001  ]\n",
      " [0.33533531 0.001001  ]]\n",
      "11\n",
      "v_positions: [[-1  1  1]\n",
      " [-1 -1 -1]\n",
      " [-1 -1  1]]\n",
      "uv_locs: [[0.66866866 0.001001  ]\n",
      " [0.998999   0.33133134]\n",
      " [0.998999   0.001001  ]]\n"
     ]
    }
   ],
   "source": [
    "texture_im = utils.uv.draw_texture_map(\n",
    "    128, \n",
    "    128, \n",
    "    unit_box_vertices, \n",
    "    test_uv, \n",
    "    # sample_fn= red_top # lambda x: np.ones((x.shape[0], 3)),\n",
    ")"
   ]
  },
  {
   "cell_type": "code",
   "execution_count": 181,
   "metadata": {},
   "outputs": [
    {
     "name": "stderr",
     "output_type": "stream",
     "text": [
      "WARNING - 2022-05-03 19:41:08,554 - image - Clipping input data to the valid range for imshow with RGB data ([0..1] for floats or [0..255] for integers).\n"
     ]
    },
    {
     "data": {
      "text/plain": [
       "<matplotlib.image.AxesImage at 0x7f89fe886ed0>"
      ]
     },
     "execution_count": 181,
     "metadata": {},
     "output_type": "execute_result"
    },
    {
     "data": {
      "image/png": "[encoded data removed]",
      "text/plain": [
       "<Figure size 432x288 with 1 Axes>"
      ]
     },
     "metadata": {
      "needs_background": "light"
     },
     "output_type": "display_data"
    }
   ],
   "source": [
    "plt.imshow(texture_im)"
   ]
  },
  {
   "cell_type": "code",
   "execution_count": 135,
   "metadata": {},
   "outputs": [],
   "source": [
    "def red_top(x):\n",
    "    output = np.zeros((x.shape[0], 3))\n",
    "    output[x[:, 0] > 0.0] = [1.0, 0.0, 0.0]\n",
    "    output[x[:, 0] <= 0.0] = [0.0, 0.0, 1.0]\n",
    "\n",
    "    return output"
   ]
  },
  {
   "cell_type": "code",
   "execution_count": 182,
   "metadata": {},
   "outputs": [
    {
     "data": {
      "text/plain": [
       "True"
      ]
     },
     "execution_count": 182,
     "metadata": {},
     "output_type": "execute_result"
    }
   ],
   "source": [
    "cv2.imwrite(\n",
    "    \"tex_im.png\", \n",
    "    cv2.cvtColor((texture_im * 255).astype(np.uint8), cv2.COLOR_RGB2BGR),\n",
    ")"
   ]
  },
  {
   "cell_type": "code",
   "execution_count": null,
   "metadata": {},
   "outputs": [],
   "source": []
  }
 ],
 "metadata": {
  "interpreter": {
   "hash": "0e83da81f4a5dcfddacd9c62c8be727cba246528e25346a139f6b3c99f9b0f3c"
  },
  "kernelspec": {
   "display_name": "Python 3.8.8 ('base')",
   "language": "python",
   "name": "python3"
  },
  "language_info": {
   "codemirror_mode": {
    "name": "ipython",
    "version": 3
   },
   "file_extension": ".py",
   "mimetype": "text/x-python",
   "name": "python",
   "nbconvert_exporter": "python",
   "pygments_lexer": "ipython3",
   "version": "3.7.13"
  },
  "orig_nbformat": 4
 },
 "nbformat": 4,
 "nbformat_minor": 2
}
