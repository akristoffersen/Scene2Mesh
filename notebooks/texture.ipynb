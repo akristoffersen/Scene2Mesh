{
 "cells": [
  {
   "cell_type": "code",
   "execution_count": 139,
   "metadata": {},
   "outputs": [
    {
     "name": "stdout",
     "output_type": "stream",
     "text": [
      "The autoreload extension is already loaded. To reload it, use:\n",
      "  %reload_ext autoreload\n"
     ]
    }
   ],
   "source": [
    "import numpy as np\n",
    "import cv2\n",
    "import os\n",
    "import torch\n",
    "import torchvision\n",
    "\n",
    "\n",
    "import matplotlib.pyplot as plt\n",
    "import plyfile\n",
    "import open3d as o3d\n",
    "import blenderpy as bpy\n",
    "\n",
    "import utils.uv\n",
    "\n",
    "%load_ext autoreload\n",
    "%autoreload 2"
   ]
  },
  {
   "cell_type": "code",
   "execution_count": 240,
   "metadata": {},
   "outputs": [],
   "source": [
    "def spherical_sample_fn(x):\n",
    "    '''\n",
    "    Converts an x value to an rgb color based off of its normal\n",
    "\n",
    "    Args:\n",
    "        x: (N, 3)\n",
    "    Returns:\n",
    "        col: (N, 3), [0, 1] rgb\n",
    "    '''\n",
    "    x = np.abs(x) / np.linalg.norm(x)\n",
    "    return x\n",
    "\n",
    "\n",
    "def normuv(uv, H, W):\n",
    "    \"\"\"\n",
    "    Normalize pixel coordinates to lie in [-1, 1]\n",
    "    \n",
    "    :param uv (..., 2) unnormalized pixel coordinates for HxW image\n",
    "    \"\"\"\n",
    "    u = uv[..., 0] / H * 2.0 - 1.0\n",
    "    v = uv[..., 1] / W * 2.0 - 1.0\n",
    "    return torch.stack([u, v], dim=-1)\n",
    "\n",
    "\n",
    "def unnormuv(uv, H, W):\n",
    "    \"\"\"\n",
    "    Un-normalize pixel coordinates\n",
    "    \n",
    "    :param uv (..., 2) normalized pixel coordinates in [-1, 1]\n",
    "    \"\"\"\n",
    "    u = (uv[..., 0] + 1.0) / 2.0 * H\n",
    "    v = (uv[..., 1] + 1.0) / 2.0 * W\n",
    "    return torch.stack([u, v], dim=-1)\n",
    "    \n",
    "\n",
    "def get_uv(H, W):\n",
    "    \"\"\"\n",
    "    Get normalized uv coordinates for image\n",
    "    :param height (int) source image height\n",
    "    :param width (int) source image width\n",
    "    :return uv (N, 2) pixel coordinates in [-1.0, 1.0]\n",
    "    \"\"\"\n",
    "    yy, xx = torch.meshgrid(\n",
    "        (torch.arange(H, dtype=torch.float32) + 0.5),\n",
    "        (torch.arange(W, dtype=torch.float32) + 0.5),\n",
    "        indexing='ij',\n",
    "    )\n",
    "    uv = torch.stack([xx, yy], dim=-1) # (H, W, 2)\n",
    "    uv = normuv(uv, W, H) # (H, W, 2)\n",
    "    return uv.view(H * W, 2)\n",
    "\n",
    "\n",
    "def create_spherical_uv_sampling(im_shape):\n",
    "    '''\n",
    "    creates the sampling of directions from the origin around 360 space.\n",
    "    Args:\n",
    "        im_shape: (H, W)\n",
    "    Returns:\n",
    "        uv sampling map (H, W)\n",
    "    '''\n",
    "    H, W = im_shape\n",
    "    phis_thetas = get_uv(H, W).numpy() * [np.pi, 2 * np.pi] # phi, theta\n",
    "    uv_directions = np.column_stack(\n",
    "        [\n",
    "            np.sin(phis_thetas[:, 0]) * np.cos(phis_thetas[:, 1]),\n",
    "            np.sin(phis_thetas[:, 0]) * np.sin(phis_thetas[:, 1]),\n",
    "            np.cos(phis_thetas[:, 0]),\n",
    "        ],\n",
    "    )\n",
    "    return uv_directions\n"
   ]
  },
  {
   "cell_type": "code",
   "execution_count": 6,
   "metadata": {},
   "outputs": [],
   "source": [
    "def get_spherical_coords(X):\n",
    "    # X is N x 3\n",
    "    rad = np.linalg.norm(X, axis=1)\n",
    "    # Inclination\n",
    "    theta = np.arccos(X[:, 2] / rad)\n",
    "    # Azimuth\n",
    "    phi = np.arctan2(X[:, 1], X[:, 0])\n",
    "\n",
    "    # Normalize both to be between [-1, 1]\n",
    "    vv = (theta / np.pi) * 2 - 1\n",
    "    uu = ((phi + np.pi) / (2*np.pi)) * 2 - 1\n",
    "    # Return N x 2\n",
    "    return np.stack([uu, vv],1)"
   ]
  },
  {
   "cell_type": "code",
   "execution_count": 70,
   "metadata": {},
   "outputs": [],
   "source": [
    "def triangle_direction_intersection(tri, trg):\n",
    "    '''\n",
    "    Finds where an origin-centered ray going in direction trg intersects a triangle.\n",
    "    Args:\n",
    "        tri: 3 X 3 vertex locations. tri[0, :] is 0th vertex.\n",
    "    Returns:\n",
    "        alpha, beta, gamma\n",
    "    '''\n",
    "    p0 = np.copy(tri[0, :])\n",
    "    # Don't normalize\n",
    "    d1 = np.copy(tri[1, :]) - p0\n",
    "    d2 = np.copy(tri[2, :]) - p0\n",
    "    d = trg / np.linalg.norm(trg)\n",
    "\n",
    "    mat = np.stack([d1, d2, d], axis=1)\n",
    "\n",
    "    try:\n",
    "      inv_mat = np.linalg.inv(mat)\n",
    "    except np.linalg.LinAlgError:\n",
    "      return False, 0\n",
    "    \n",
    "    a_b_mg = -1*np.matmul(inv_mat, p0)\n",
    "    is_valid = (a_b_mg[0] >= 0) and (a_b_mg[1] >= 0) and ((a_b_mg[0] + a_b_mg[1]) <= 1) and (a_b_mg[2] < 0)\n",
    "    if is_valid:\n",
    "        return True, -a_b_mg[2]*d\n",
    "    else:\n",
    "        return False, 0"
   ]
  },
  {
   "cell_type": "code",
   "execution_count": 36,
   "metadata": {},
   "outputs": [],
   "source": [
    "def mesh_centroid(vertices, faces):\n",
    "\n",
    "    return np.average(vertices, axis=0)\n",
    "\n",
    "def create_spherical_uv_map(H, W, vertices, faces, sample_fn=spherical_sample_fn):\n",
    "    ray_dirs = create_spherical_uv_sampling((H, W)) # (H * W, 3)\n",
    "    mesh_center = mesh_centroid(vertices, faces)\n",
    "\n",
    "    normalized_vertices = vertices - mesh_center\n",
    "    uv_map = np.zeros((H, W, 3))\n",
    "\n",
    "    for face in faces:\n",
    "        pass\n",
    "\n",
    "    return uv_map"
   ]
  },
  {
   "cell_type": "code",
   "execution_count": 37,
   "metadata": {},
   "outputs": [
    {
     "data": {
      "text/plain": [
       "array([0., 0., 0.])"
      ]
     },
     "execution_count": 37,
     "metadata": {},
     "output_type": "execute_result"
    }
   ],
   "source": [
    "mesh_centroid(\n",
    "    np.array(\n",
    "        [\n",
    "            [1, 1, 1],\n",
    "            [1, 1, -1],\n",
    "            [1, -1, -1],\n",
    "            [1, -1, 1],\n",
    "            [-1, 1, 1],\n",
    "            [-1, 1, -1],\n",
    "            [-1, -1, -1],\n",
    "            [-1, -1, 1],\n",
    "        ],\n",
    "    ),\n",
    "    np.array(\n",
    "        [\n",
    "            [0, 1, 2],\n",
    "            [0, 2, 3],\n",
    "            [1, 5, 2],\n",
    "            [2, 5, 6],\n",
    "            [3, 2, 6],\n",
    "            [3, 6, 7],\n",
    "            [4, 5, 1],\n",
    "            [4, 1, 0],\n",
    "            [4, 0, 3],\n",
    "            [4, 3, 7],\n",
    "            [4, 5, 6],\n",
    "            [4, 6, 7],\n",
    "        ]\n",
    "    ),\n",
    ")"
   ]
  },
  {
   "cell_type": "code",
   "execution_count": 13,
   "metadata": {},
   "outputs": [
    {
     "data": {
      "text/plain": [
       "torch.Size([25, 2])"
      ]
     },
     "execution_count": 13,
     "metadata": {},
     "output_type": "execute_result"
    }
   ],
   "source": [
    "get_uv(5, 5).shape"
   ]
  },
  {
   "cell_type": "code",
   "execution_count": 50,
   "metadata": {},
   "outputs": [],
   "source": [
    "def numpy_to_ply(vertices, faces, vert_colors=None, filename=None):\n",
    "    '''\n",
    "    Converts numpy arrays to PLY file, which can be used\n",
    "    in blender or converted into an obj file.\n",
    "    Args:\n",
    "        # vertices: (|V|, 3), <x,y,z>\n",
    "        # faces: (|F|, 3), vertex indices, 3 for each triangle\n",
    "        # vert_colors (optional): (|V|, 3) RGB, [0, 1] range\n",
    "        # filename: string. if not None, write to given filepath.\n",
    "    Returns:\n",
    "        PlyData obj\n",
    "    '''\n",
    "    assert vertices.shape[1] == 3 and faces.shape[1] == 3\n",
    "\n",
    "    if vert_colors is None:\n",
    "        vertices = np.array(\n",
    "            [tuple(vertices[i]) for i in range(vertices.shape[0])],\n",
    "            dtype=[('x', 'f4'), ('y', 'f4'), ('z', 'f4')],\n",
    "        )\n",
    "    else:\n",
    "        vertices = np.array(\n",
    "            [(*vertices[i], vert_colors[i, 0], vert_colors[i, 1], vert_colors[i, 2])  \n",
    "              for i in range(vertices.shape[0])],\n",
    "            dtype=[\n",
    "                ('x', 'f4'), ('y', 'f4'), ('z', 'f4'), \n",
    "                (\"red\", \"u1\"), (\"green\", \"u1\"), (\"blue\", \"u1\"),\n",
    "            ],\n",
    "        )\n",
    "    faces = np.array(\n",
    "        [tuple([faces[i]]) for i in range(faces.shape[0])],\n",
    "        dtype=[('vertex_indices', 'i4', (3,))],\n",
    "    )\n",
    "    ply_data = plyfile.PlyData(\n",
    "        [\n",
    "            plyfile.PlyElement.describe(\n",
    "                vertices, \n",
    "                'vertex',\n",
    "                comments=['model vertices'],\n",
    "            ),\n",
    "            plyfile.PlyElement.describe(\n",
    "                faces,\n",
    "                'face',\n",
    "            ),\n",
    "        ],\n",
    "    )\n",
    "    if filename:\n",
    "        ply_data.write(filename)\n",
    "    \n",
    "    return ply_data\n"
   ]
  },
  {
   "cell_type": "code",
   "execution_count": 55,
   "metadata": {},
   "outputs": [],
   "source": [
    "unit_box_vertices = np.array(\n",
    "    [\n",
    "        [1, 1, 1],\n",
    "        [1, 1, -1],\n",
    "        [1, -1, -1],\n",
    "        [1, -1, 1],\n",
    "        [-1, 1, 1],\n",
    "        [-1, 1, -1],\n",
    "        [-1, -1, -1],\n",
    "        [-1, -1, 1],\n",
    "    ],\n",
    ")\n",
    "\n",
    "unit_box_faces = np.array(\n",
    "    [\n",
    "        [0, 1, 2],\n",
    "        [0, 2, 3],\n",
    "        [1, 5, 2],\n",
    "        [2, 5, 6],\n",
    "        [3, 2, 6],\n",
    "        [3, 6, 7],\n",
    "        [4, 5, 1],\n",
    "        [4, 1, 0],\n",
    "        [4, 0, 3],\n",
    "        [4, 3, 7],\n",
    "        [4, 5, 6],\n",
    "        [4, 6, 7],\n",
    "    ]\n",
    ")\n",
    "\n",
    "unit_box_vertex_colors = (255 * (unit_box_vertices + 1) / 2.0).astype(np.uint8)\n"
   ]
  },
  {
   "cell_type": "code",
   "execution_count": 56,
   "metadata": {},
   "outputs": [
    {
     "data": {
      "text/plain": [
       "PlyData((PlyElement('vertex', (PlyProperty('x', 'float'), PlyProperty('y', 'float'), PlyProperty('z', 'float'), PlyProperty('red', 'uchar'), PlyProperty('green', 'uchar'), PlyProperty('blue', 'uchar')), count=8, comments=['model vertices']), PlyElement('face', (PlyListProperty('vertex_indices', 'uchar', 'int'),), count=12, comments=[])), text=False, byte_order='<', comments=[], obj_info=[])"
      ]
     },
     "execution_count": 56,
     "metadata": {},
     "output_type": "execute_result"
    }
   ],
   "source": [
    "numpy_to_ply(\n",
    "    unit_box_vertices, \n",
    "    unit_box_faces, \n",
    "    vert_colors=unit_box_vertex_colors,\n",
    "    filename=\"test.ply\",\n",
    ")"
   ]
  },
  {
   "cell_type": "code",
   "execution_count": 66,
   "metadata": {},
   "outputs": [],
   "source": [
    "mesh = o3d.geometry.TriangleMesh()\n",
    "mesh.vertices=o3d.utility.Vector3dVector(unit_box_vertices)\n",
    "mesh.triangles=o3d.utility.Vector3iVector(unit_box_faces)"
   ]
  },
  {
   "cell_type": "code",
   "execution_count": 71,
   "metadata": {},
   "outputs": [
    {
     "ename": "AttributeError",
     "evalue": "module 'blenderpy' has no attribute 'data'",
     "output_type": "error",
     "traceback": [
      "\u001b[0;31m---------------------------------------------------------------------------\u001b[0m",
      "\u001b[0;31mAttributeError\u001b[0m                            Traceback (most recent call last)",
      "\u001b[0;32m/var/folders/w5/z_bmtv851_3_jlwm29xptbd80000gn/T/ipykernel_46517/3072324082.py\u001b[0m in \u001b[0;36m<module>\u001b[0;34m\u001b[0m\n\u001b[0;32m----> 1\u001b[0;31m \u001b[0mmesh\u001b[0m \u001b[0;34m=\u001b[0m \u001b[0mbpy\u001b[0m\u001b[0;34m.\u001b[0m\u001b[0mdata\u001b[0m\u001b[0;34m.\u001b[0m\u001b[0mmeshes\u001b[0m\u001b[0;34m.\u001b[0m\u001b[0mnew\u001b[0m\u001b[0;34m(\u001b[0m\u001b[0mname\u001b[0m\u001b[0;34m=\u001b[0m\u001b[0;34m'imported mesh'\u001b[0m\u001b[0;34m)\u001b[0m\u001b[0;34m\u001b[0m\u001b[0;34m\u001b[0m\u001b[0m\n\u001b[0m",
      "\u001b[0;31mAttributeError\u001b[0m: module 'blenderpy' has no attribute 'data'"
     ]
    }
   ],
   "source": [
    "mesh = bpy.data.meshes.new(name='imported mesh')"
   ]
  },
  {
   "cell_type": "code",
   "execution_count": 256,
   "metadata": {},
   "outputs": [],
   "source": [
    "test_uv = np.load(\"test_uv_map.npy\", allow_pickle=True)[()]"
   ]
  },
  {
   "cell_type": "code",
   "execution_count": null,
   "metadata": {},
   "outputs": [],
   "source": []
  },
  {
   "cell_type": "code",
   "execution_count": 258,
   "metadata": {},
   "outputs": [],
   "source": [
    "texture_im = utils.uv.draw_texture_map(128, 128, unit_box_vertices, test_uv)"
   ]
  },
  {
   "cell_type": "code",
   "execution_count": 259,
   "metadata": {},
   "outputs": [
    {
     "name": "stderr",
     "output_type": "stream",
     "text": [
      "WARNING - 2022-05-01 23:59:40,624 - image - Clipping input data to the valid range for imshow with RGB data ([0..1] for floats or [0..255] for integers).\n"
     ]
    },
    {
     "data": {
      "text/plain": [
       "<matplotlib.image.AxesImage at 0x7fcad0279c10>"
      ]
     },
     "execution_count": 259,
     "metadata": {},
     "output_type": "execute_result"
    },
    {
     "data": {
      "image/png": "[encoded data removed]",
      "text/plain": [
       "<Figure size 432x288 with 1 Axes>"
      ]
     },
     "metadata": {
      "needs_background": "light"
     },
     "output_type": "display_data"
    }
   ],
   "source": [
    "plt.imshow(texture_im)"
   ]
  },
  {
   "cell_type": "code",
   "execution_count": 253,
   "metadata": {},
   "outputs": [
    {
     "data": {
      "text/plain": [
       "array([[[0.50427237, 0.49579438, 0.49576101],\n",
       "        [0.50427237, 0.49586114, 0.49582776],\n",
       "        [0.50427237, 0.49592789, 0.49589452],\n",
       "        ...,\n",
       "        [0.50413931, 0.49589407, 0.49572716],\n",
       "        [0.50420608, 0.49582731, 0.49572716],\n",
       "        [0.        , 0.        , 0.        ]],\n",
       "\n",
       "       [[0.50427237, 0.49586114, 0.49576101],\n",
       "        [0.50427237, 0.49592789, 0.49582776],\n",
       "        [0.50427237, 0.49599465, 0.49589452],\n",
       "        ...,\n",
       "        [0.50413931, 0.49596083, 0.49572716],\n",
       "        [0.50420608, 0.49589407, 0.49572716],\n",
       "        [0.        , 0.        , 0.        ]],\n",
       "\n",
       "       [[0.50427237, 0.49592789, 0.49576101],\n",
       "        [0.50427237, 0.49599465, 0.49582776],\n",
       "        [0.50427237, 0.4960614 , 0.49589452],\n",
       "        ...,\n",
       "        [0.50413931, 0.49602759, 0.49572716],\n",
       "        [0.50420608, 0.49596083, 0.49572716],\n",
       "        [0.        , 0.        , 0.        ]],\n",
       "\n",
       "       ...,\n",
       "\n",
       "       [[0.49566674, 0.50399472, 0.50416399],\n",
       "        [0.49566674, 0.50406243, 0.5042317 ],\n",
       "        [0.49572763, 0.50420561, 0.495761  ],\n",
       "        ...,\n",
       "        [0.49583601, 0.49566674, 0.50433326],\n",
       "        [0.49586262, 0.50423829, 0.50430556],\n",
       "        [0.        , 0.        , 0.        ]],\n",
       "\n",
       "       [[0.49566674, 0.50413014, 0.5042317 ],\n",
       "        [0.49572763, 0.50427237, 0.495761  ],\n",
       "        [0.49566674, 0.49573445, 0.4957683 ],\n",
       "        ...,\n",
       "        [0.4957683 , 0.49573445, 0.50433326],\n",
       "        [0.4957683 , 0.49566674, 0.50433326],\n",
       "        [0.        , 0.        , 0.        ]],\n",
       "\n",
       "       [[0.        , 0.        , 0.        ],\n",
       "        [0.        , 0.        , 0.        ],\n",
       "        [0.        , 0.        , 0.        ],\n",
       "        ...,\n",
       "        [0.        , 0.        , 0.        ],\n",
       "        [0.        , 0.        , 0.        ],\n",
       "        [0.        , 0.        , 0.        ]]])"
      ]
     },
     "execution_count": 253,
     "metadata": {},
     "output_type": "execute_result"
    }
   ],
   "source": [
    "texture_im"
   ]
  }
 ],
 "metadata": {
  "interpreter": {
   "hash": "0e83da81f4a5dcfddacd9c62c8be727cba246528e25346a139f6b3c99f9b0f3c"
  },
  "kernelspec": {
   "display_name": "Python 3.8.8 ('base')",
   "language": "python",
   "name": "python3"
  },
  "language_info": {
   "codemirror_mode": {
    "name": "ipython",
    "version": 3
   },
   "file_extension": ".py",
   "mimetype": "text/x-python",
   "name": "python",
   "nbconvert_exporter": "python",
   "pygments_lexer": "ipython3",
   "version": "3.8.13"
  },
  "orig_nbformat": 4
 },
 "nbformat": 4,
 "nbformat_minor": 2
}
