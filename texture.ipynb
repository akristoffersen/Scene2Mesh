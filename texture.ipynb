{
 "cells": [
  {
   "cell_type": "code",
   "execution_count": 4,
   "metadata": {},
   "outputs": [],
   "source": [
    "import numpy as np\n",
    "import cv2\n",
    "import os\n",
    "import torch\n",
    "import torchvision\n",
    "\n",
    "\n",
    "import matplotlib.pyplot as plt\n",
    "import plyfile"
   ]
  },
  {
   "cell_type": "code",
   "execution_count": null,
   "metadata": {},
   "outputs": [],
   "source": [
    "# vertices: (|V|, 3), <x,y,z>\n",
    "# triangles: (|F|, 3), vertex indices, 3 for each triangle\n",
    "# sample_fn: how to select the color in space."
   ]
  },
  {
   "cell_type": "code",
   "execution_count": 5,
   "metadata": {},
   "outputs": [],
   "source": [
    "def spherical_sample_fn(x):\n",
    "    '''\n",
    "    Converts an x value to an rgb color based off of its normal\n",
    "\n",
    "    Args:\n",
    "        x: (N, 3)\n",
    "    Returns:\n",
    "        col: (N, 3), [0, 1] rgb\n",
    "    '''\n",
    "    x = x / np.linalg.norm(x)\n",
    "    return x\n",
    "\n",
    "\n",
    "def normuv(uv, H, W):\n",
    "    \"\"\"\n",
    "    Normalize pixel coordinates to lie in [-1, 1]\n",
    "    \n",
    "    :param uv (..., 2) unnormalized pixel coordinates for HxW image\n",
    "    \"\"\"\n",
    "    u = uv[..., 0] / H * 2.0 - 1.0\n",
    "    v = uv[..., 1] / W * 2.0 - 1.0\n",
    "    return torch.stack([u, v], dim=-1)\n",
    "\n",
    "\n",
    "def unnormuv(uv, H, W):\n",
    "    \"\"\"\n",
    "    Un-normalize pixel coordinates\n",
    "    \n",
    "    :param uv (..., 2) normalized pixel coordinates in [-1, 1]\n",
    "    \"\"\"\n",
    "    u = (uv[..., 0] + 1.0) / 2.0 * H\n",
    "    v = (uv[..., 1] + 1.0) / 2.0 * W\n",
    "    return torch.stack([u, v], dim=-1)\n",
    "    \n",
    "\n",
    "def get_uv(H, W):\n",
    "    \"\"\"\n",
    "    Get normalized uv coordinates for image\n",
    "    :param height (int) source image height\n",
    "    :param width (int) source image width\n",
    "    :return uv (N, 2) pixel coordinates in [-1.0, 1.0]\n",
    "    \"\"\"\n",
    "    yy, xx = torch.meshgrid(\n",
    "        (torch.arange(H, dtype=torch.float32) + 0.5),\n",
    "        (torch.arange(W, dtype=torch.float32) + 0.5),\n",
    "        indexing='ij',\n",
    "    )\n",
    "    uv = torch.stack([xx, yy], dim=-1) # (H, W, 2)\n",
    "    uv = normuv(uv, W, H) # (H, W, 2)\n",
    "    return uv.view(H * W, 2)\n",
    "\n",
    "\n",
    "def create_spherical_uv_sampling(im_shape):\n",
    "    '''\n",
    "    creates the sampling of directions from the origin around 360 space.\n",
    "    Args:\n",
    "        im_shape: (H, W)\n",
    "    Returns:\n",
    "        uv sampling map (H, W)\n",
    "    '''\n",
    "    H, W = im_shape\n",
    "    phis_thetas = get_uv(H, W).numpy() * [np.pi, 2 * np.pi] # phi, theta\n",
    "    uv_directions = np.column_stack(\n",
    "        [\n",
    "            np.sin(phis_thetas[:, 0]) * np.cos(phis_thetas[:, 1]),\n",
    "            np.sin(phis_thetas[:, 0]) * np.sin(phis_thetas[:, 1]),\n",
    "            np.cos(phis_thetas[:, 0]),\n",
    "        ],\n",
    "    )\n",
    "    return uv_directions\n"
   ]
  },
  {
   "cell_type": "code",
   "execution_count": 6,
   "metadata": {},
   "outputs": [],
   "source": [
    "def get_spherical_coords(X):\n",
    "    # X is N x 3\n",
    "    rad = np.linalg.norm(X, axis=1)\n",
    "    # Inclination\n",
    "    theta = np.arccos(X[:, 2] / rad)\n",
    "    # Azimuth\n",
    "    phi = np.arctan2(X[:, 1], X[:, 0])\n",
    "\n",
    "    # Normalize both to be between [-1, 1]\n",
    "    vv = (theta / np.pi) * 2 - 1\n",
    "    uu = ((phi + np.pi) / (2*np.pi)) * 2 - 1\n",
    "    # Return N x 2\n",
    "    return np.stack([uu, vv],1)"
   ]
  },
  {
   "cell_type": "code",
   "execution_count": 70,
   "metadata": {},
   "outputs": [],
   "source": [
    "def triangle_direction_intersection(tri, trg):\n",
    "    '''\n",
    "    Finds where an origin-centered ray going in direction trg intersects a triangle.\n",
    "    Args:\n",
    "        tri: 3 X 3 vertex locations. tri[0, :] is 0th vertex.\n",
    "    Returns:\n",
    "        alpha, beta, gamma\n",
    "    '''\n",
    "    p0 = np.copy(tri[0, :])\n",
    "    # Don't normalize\n",
    "    d1 = np.copy(tri[1, :]) - p0\n",
    "    d2 = np.copy(tri[2, :]) - p0\n",
    "    d = trg / np.linalg.norm(trg)\n",
    "\n",
    "    mat = np.stack([d1, d2, d], axis=1)\n",
    "\n",
    "    try:\n",
    "      inv_mat = np.linalg.inv(mat)\n",
    "    except np.linalg.LinAlgError:\n",
    "      return False, 0\n",
    "    \n",
    "    a_b_mg = -1*np.matmul(inv_mat, p0)\n",
    "    is_valid = (a_b_mg[0] >= 0) and (a_b_mg[1] >= 0) and ((a_b_mg[0] + a_b_mg[1]) <= 1) and (a_b_mg[2] < 0)\n",
    "    if is_valid:\n",
    "        return True, -a_b_mg[2]*d\n",
    "    else:\n",
    "        return False, 0"
   ]
  },
  {
   "cell_type": "code",
   "execution_count": 64,
   "metadata": {},
   "outputs": [],
   "source": [
    "def mesh_centroid(vertices, faces):\n",
    "    # mesh_volume = 0\n",
    "    # temp = np.array([0.0,0.0,0.0])\n",
    "\n",
    "    # for face in faces:\n",
    "    #     v_a = vertices[int(face[0])]\n",
    "    #     v_b = vertices[int(face[1])]\n",
    "    #     v_c = vertices[int(face[2])]\n",
    "\n",
    "    #     center = (v_a + v_b + v_c) / 4\n",
    "    #     volume = np.dot(v_a, np.cross(v_b, v_c)) / 6.0\n",
    "    #     mesh_volume += volume\n",
    "    #     temp = center * volume\n",
    "\n",
    "    # mesh_center = temp / mesh_volume\n",
    "    # return mesh_center\n",
    "\n",
    "    return np.average(vertices, axis=0)\n",
    "\n",
    "def create_spherical_uv_map(H, W, vertices, faces, sample_fn=spherical_sample_fn):\n",
    "    ray_dirs = create_spherical_uv_sampling((H, W)) # (H * W, 3)\n",
    "    mesh_center = mesh_centroid(vertices, faces)\n",
    "\n",
    "    normalized_vertices = vertices - mesh_center\n",
    "    uv_map = np.zeros((H, W, 3))\n",
    "\n",
    "    for face in faces:\n",
    "        pass\n",
    "    \n",
    "\n",
    "\n",
    "    return uv_map"
   ]
  },
  {
   "cell_type": "code",
   "execution_count": 69,
   "metadata": {},
   "outputs": [
    {
     "data": {
      "text/plain": [
       "array([0., 0., 0.])"
      ]
     },
     "execution_count": 69,
     "metadata": {},
     "output_type": "execute_result"
    }
   ],
   "source": [
    "mesh_centroid(\n",
    "    np.array(\n",
    "        [\n",
    "            [1, 1, 1],\n",
    "            [1, 1, -1],\n",
    "            [1, -1, -1],\n",
    "            [1, -1, 1],\n",
    "            [-1, 1, 1],\n",
    "            [-1, 1, -1],\n",
    "            [-1, -1, -1],\n",
    "            [-1, -1, 1],\n",
    "        ],\n",
    "    ),\n",
    "    np.array(\n",
    "        [\n",
    "            [0, 1, 2],\n",
    "            [0, 2, 3],\n",
    "            [1, 5, 2],\n",
    "            [2, 5, 6],\n",
    "            [3, 2, 6],\n",
    "            [3, 6, 7],\n",
    "            [4, 5, 1],\n",
    "            [4, 1, 0],\n",
    "            [4, 0, 3],\n",
    "            [4, 3, 7],\n",
    "            [4, 5, 6],\n",
    "            [4, 6, 7],\n",
    "        ]\n",
    "    ),\n",
    ")"
   ]
  },
  {
   "cell_type": "code",
   "execution_count": 13,
   "metadata": {},
   "outputs": [
    {
     "data": {
      "text/plain": [
       "torch.Size([25, 2])"
      ]
     },
     "execution_count": 13,
     "metadata": {},
     "output_type": "execute_result"
    }
   ],
   "source": [
    "get_uv(5, 5).shape"
   ]
  },
  {
   "cell_type": "code",
   "execution_count": 16,
   "metadata": {},
   "outputs": [
    {
     "data": {
      "text/plain": [
       "array([[-2.35619449, -4.71238898],\n",
       "       [-0.78539816, -4.71238898],\n",
       "       [ 0.78539816, -4.71238898],\n",
       "       [ 2.35619449, -4.71238898],\n",
       "       [-2.35619449, -1.57079633],\n",
       "       [-0.78539816, -1.57079633],\n",
       "       [ 0.78539816, -1.57079633],\n",
       "       [ 2.35619449, -1.57079633],\n",
       "       [-2.35619449,  1.57079633],\n",
       "       [-0.78539816,  1.57079633],\n",
       "       [ 0.78539816,  1.57079633],\n",
       "       [ 2.35619449,  1.57079633],\n",
       "       [-2.35619449,  4.71238898],\n",
       "       [-0.78539816,  4.71238898],\n",
       "       [ 0.78539816,  4.71238898],\n",
       "       [ 2.35619449,  4.71238898]])"
      ]
     },
     "execution_count": 16,
     "metadata": {},
     "output_type": "execute_result"
    }
   ],
   "source": []
  },
  {
   "cell_type": "code",
   "execution_count": 17,
   "metadata": {},
   "outputs": [
    {
     "data": {
      "text/plain": [
       "tensor([[-0.7500, -0.7500],\n",
       "        [-0.2500, -0.7500],\n",
       "        [ 0.2500, -0.7500],\n",
       "        [ 0.7500, -0.7500],\n",
       "        [-0.7500, -0.2500],\n",
       "        [-0.2500, -0.2500],\n",
       "        [ 0.2500, -0.2500],\n",
       "        [ 0.7500, -0.2500],\n",
       "        [-0.7500,  0.2500],\n",
       "        [-0.2500,  0.2500],\n",
       "        [ 0.2500,  0.2500],\n",
       "        [ 0.7500,  0.2500],\n",
       "        [-0.7500,  0.7500],\n",
       "        [-0.2500,  0.7500],\n",
       "        [ 0.2500,  0.7500],\n",
       "        [ 0.7500,  0.7500]])"
      ]
     },
     "execution_count": 17,
     "metadata": {},
     "output_type": "execute_result"
    }
   ],
   "source": [
    "get_uv(4, 4)"
   ]
  },
  {
   "cell_type": "code",
   "execution_count": 26,
   "metadata": {},
   "outputs": [],
   "source": [
    "phis_thetas = get_uv(4, 4).numpy() * [np.pi, 2 * np.pi]"
   ]
  },
  {
   "cell_type": "code",
   "execution_count": 38,
   "metadata": {},
   "outputs": [
    {
     "data": {
      "text/plain": [
       "(16, 3)"
      ]
     },
     "execution_count": 38,
     "metadata": {},
     "output_type": "execute_result"
    }
   ],
   "source": [
    "np.column_stack(\n",
    "    [\n",
    "        np.sin(phis_thetas[:, 0]) * np.cos(phis_thetas[:, 1]),\n",
    "        np.sin(phis_thetas[:, 0]) * np.sin(phis_thetas[:, 1]),\n",
    "        np.cos(phis_thetas[:, 0]),\n",
    "    ],\n",
    ").shape"
   ]
  },
  {
   "cell_type": "code",
   "execution_count": 28,
   "metadata": {},
   "outputs": [
    {
     "data": {
      "text/plain": [
       "array([ 1.29893408e-16,  1.29893408e-16, -1.29893408e-16, -1.29893408e-16,\n",
       "       -4.32978028e-17, -4.32978028e-17,  4.32978028e-17,  4.32978028e-17,\n",
       "       -4.32978028e-17, -4.32978028e-17,  4.32978028e-17,  4.32978028e-17,\n",
       "        1.29893408e-16,  1.29893408e-16, -1.29893408e-16, -1.29893408e-16])"
      ]
     },
     "execution_count": 28,
     "metadata": {},
     "output_type": "execute_result"
    }
   ],
   "source": [
    "np.sin(phis_thetas[:, 0]) * np.cos(phis_thetas[:, 1])"
   ]
  },
  {
   "cell_type": "code",
   "execution_count": 7,
   "metadata": {},
   "outputs": [
    {
     "data": {
      "text/plain": [
       "array([[1., 0.],\n",
       "       [1., 0.],\n",
       "       [1., 0.],\n",
       "       [1., 0.],\n",
       "       [1., 0.]])"
      ]
     },
     "execution_count": 7,
     "metadata": {},
     "output_type": "execute_result"
    }
   ],
   "source": [
    "np.hstack([np.ones((5, 1)), np.zeros((5, 1))])"
   ]
  },
  {
   "cell_type": "code",
   "execution_count": 32,
   "metadata": {},
   "outputs": [],
   "source": [
    "def numpy_to_ply(vertices, faces, vert_colors=None, filename=None):\n",
    "    '''\n",
    "    Converts numpy arrays to PLY file, which can be used\n",
    "    in blender or converted into an obj file.\n",
    "    Args:\n",
    "        # vertices: (|V|, 3), <x,y,z>\n",
    "        # faces: (|F|, 3), vertex indices, 3 for each triangle\n",
    "        # vert_colors (optional): (|V|, 3) RGB, [0, 1] range\n",
    "        # filename: string. if not None, write to given filepath.\n",
    "    Returns:\n",
    "        PlyData obj\n",
    "    '''\n",
    "    assert vertices.shape[1] == 3 and faces.shape[1] == 3\n",
    "    vertices = np.array(\n",
    "        [tuple(vertices[i]) for i in range(vertices.shape[0])],\n",
    "        dtype=[('x', 'f4'), ('y', 'f4'), ('z', 'f4')],\n",
    "    )\n",
    "    faces = np.array(\n",
    "        [tuple([faces[i]]) for i in range(faces.shape[0])],\n",
    "        dtype=[('vertex_indices', 'i4', (3,))],\n",
    "    )\n",
    "    ply_data = plyfile.PlyData(\n",
    "        [\n",
    "            plyfile.PlyElement.describe(\n",
    "                vertices, \n",
    "                'vertex',\n",
    "                comments=['model vertices'],\n",
    "            ),\n",
    "            plyfile.PlyElement.describe(\n",
    "                faces,\n",
    "                'face',\n",
    "            ),\n",
    "        ],\n",
    "    )\n",
    "    if filename:\n",
    "        ply_data.write(filename)\n",
    "    \n",
    "    return ply_data\n"
   ]
  },
  {
   "cell_type": "code",
   "execution_count": 33,
   "metadata": {},
   "outputs": [],
   "source": [
    "unit_box_vertices = np.array(\n",
    "    [\n",
    "        [1, 1, 1],\n",
    "        [1, 1, -1],\n",
    "        [1, -1, -1],\n",
    "        [1, -1, 1],\n",
    "        [-1, 1, 1],\n",
    "        [-1, 1, -1],\n",
    "        [-1, -1, -1],\n",
    "        [-1, -1, 1],\n",
    "    ],\n",
    ")\n",
    "\n",
    "unit_box_faces = np.array(\n",
    "    [\n",
    "        [0, 1, 2],\n",
    "        [0, 2, 3],\n",
    "        [1, 5, 2],\n",
    "        [2, 5, 6],\n",
    "        [3, 2, 6],\n",
    "        [3, 6, 7],\n",
    "        [4, 5, 1],\n",
    "        [4, 1, 0],\n",
    "        [4, 0, 3],\n",
    "        [4, 3, 7],\n",
    "        [4, 5, 6],\n",
    "        [4, 6, 7],\n",
    "    ]\n",
    ")\n"
   ]
  },
  {
   "cell_type": "code",
   "execution_count": 35,
   "metadata": {},
   "outputs": [
    {
     "data": {
      "text/plain": [
       "PlyData((PlyElement('vertex', (PlyProperty('x', 'float'), PlyProperty('y', 'float'), PlyProperty('z', 'float')), count=8, comments=['model vertices']), PlyElement('face', (PlyListProperty('vertex_indices', 'uchar', 'int'),), count=12, comments=[])), text=False, byte_order='<', comments=[], obj_info=[])"
      ]
     },
     "execution_count": 35,
     "metadata": {},
     "output_type": "execute_result"
    }
   ],
   "source": [
    "numpy_to_ply(unit_box_vertices, unit_box_faces, filename=\"test.ply\")"
   ]
  },
  {
   "cell_type": "code",
   "execution_count": 23,
   "metadata": {},
   "outputs": [
    {
     "data": {
      "text/plain": [
       "array([( 1.,  1.,  1.), ( 1.,  1., -1.), ( 1., -1., -1.), ( 1., -1.,  1.),\n",
       "       (-1.,  1.,  1.), (-1.,  1., -1.), (-1., -1., -1.), (-1., -1.,  1.)],\n",
       "      dtype=[('x', '<f4'), ('y', '<f4'), ('z', '<f4')])"
      ]
     },
     "execution_count": 23,
     "metadata": {},
     "output_type": "execute_result"
    }
   ],
   "source": [
    "np.array(\n",
    "    [tuple(unit_box_vertices[i]) for i in range(unit_box_vertices.shape[0])],\n",
    "    dtype=[('x', 'f4'), ('y', 'f4'), ('z', 'f4')],\n",
    ")"
   ]
  },
  {
   "cell_type": "code",
   "execution_count": 25,
   "metadata": {},
   "outputs": [
    {
     "data": {
      "text/plain": [
       "array([([0, 1, 2],), ([0, 2, 3],), ([1, 5, 2],), ([2, 5, 6],),\n",
       "       ([3, 2, 6],), ([3, 6, 7],), ([4, 5, 1],), ([4, 1, 0],),\n",
       "       ([4, 0, 3],), ([4, 3, 7],), ([4, 5, 6],), ([4, 6, 7],)],\n",
       "      dtype=[('vertex_indices', '<i4', (3,))])"
      ]
     },
     "execution_count": 25,
     "metadata": {},
     "output_type": "execute_result"
    }
   ],
   "source": [
    "np.array(\n",
    "    [tuple([unit_box_faces[i]]) for i in range(unit_box_faces.shape[0])],\n",
    "    dtype=[('vertex_indices', 'i4', (3,))],\n",
    ")"
   ]
  },
  {
   "cell_type": "code",
   "execution_count": null,
   "metadata": {},
   "outputs": [],
   "source": []
  }
 ],
 "metadata": {
  "interpreter": {
   "hash": "0e83da81f4a5dcfddacd9c62c8be727cba246528e25346a139f6b3c99f9b0f3c"
  },
  "kernelspec": {
   "display_name": "Python 3.8.8 ('base')",
   "language": "python",
   "name": "python3"
  },
  "language_info": {
   "codemirror_mode": {
    "name": "ipython",
    "version": 3
   },
   "file_extension": ".py",
   "mimetype": "text/x-python",
   "name": "python",
   "nbconvert_exporter": "python",
   "pygments_lexer": "ipython3",
   "version": "3.8.13"
  },
  "orig_nbformat": 4
 },
 "nbformat": 4,
 "nbformat_minor": 2
}
